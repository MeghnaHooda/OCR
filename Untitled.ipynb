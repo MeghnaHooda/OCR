{
 "cells": [
  {
   "cell_type": "markdown",
   "metadata": {},
   "source": "# Text Recognition using Tesseract"
  },
  {
   "cell_type": "code",
   "execution_count": 6,
   "metadata": {},
   "outputs": [
    {
     "name": "stdout",
     "output_type": "stream",
     "text": "((( BREAKING NEWS )))\n"
    }
   ],
   "source": "import cv2\nimport pytesseract\nimg= cv2.imread('bn.png')\n\ntext= pytesseract.image_to_string(img)\nprint(text)"
  },
  {
   "cell_type": "markdown",
   "metadata": {},
   "source": "# Tect Recognition using Pillow"
  },
  {
   "cell_type": "code",
   "execution_count": 25,
   "metadata": {},
   "outputs": [
    {
     "name": "stdout",
     "output_type": "stream",
     "text": "( BREAKING )\n"
    }
   ],
   "source": "from PIL import Image, ImageEnhance, ImageFilter\nimport pytesseract\npath = \"bn.png\"\nimg = Image.open(path)\n#img = img.convert(\"RGBA\")\npix = img.load()\nfor y in range(img.size[1]):\n    for x in range(img.size[0]):\n        if pix[x, y][0] < 102 or pix[x, y][1] < 102 or pix[x, y][2] < 102:\n            pix[x, y] = (0, 0, 0, 255)\n        else:\n            pix[x, y] = (255, 255, 255, 255)\nimg.save(\"temp.jpg\")\ntext = pytesseract.image_to_string(Image.open(\"temp.jpg\"))\nprint(text)"
  },
  {
   "cell_type": "code",
   "execution_count": null,
   "metadata": {},
   "outputs": [],
   "source": ""
  }
 ],
 "metadata": {
  "kernelspec": {
   "display_name": "Python 2",
   "language": "python",
   "name": "python2"
  },
  "language_info": {
   "codemirror_mode": {
    "name": "ipython",
    "version": 2
   },
   "file_extension": ".py",
   "mimetype": "text/x-python",
   "name": "python",
   "nbconvert_exporter": "python",
   "pygments_lexer": "ipython2",
   "version": "2.7.15+"
  }
 },
 "nbformat": 4,
 "nbformat_minor": 4
}
